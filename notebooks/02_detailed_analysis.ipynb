{
 "cells": [
  {
   "cell_type": "markdown",
   "metadata": {},
   "source": [
    "# Ariel Data Challenge 2025 - 詳細データ分析\n",
    "\n",
    "## 概要\n",
    "系外惑星大気の分光データ分析を深掘りします。\n",
    "\n",
    "**目標**: \n",
    "- 283波長帯域での分光値パターンの理解\n",
    "- 不確実性の分布とパターンの分析\n",
    "- 予測対象の特性把握"
   ]
  },
  {
   "cell_type": "code",
   "execution_count": null,
   "metadata": {},
   "outputs": [],
   "source": [
    "import pandas as pd\n",
    "import numpy as np\n",
    "import matplotlib.pyplot as plt\n",
    "import seaborn as sns\n",
    "from pathlib import Path\n",
    "import plotly.graph_objects as go\n",
    "import plotly.express as px\n",
    "from plotly.subplots import make_subplots\n",
    "\n",
    "# 設定\n",
    "plt.rcParams['figure.figsize'] = (12, 8)\n",
    "sns.set_style(\"whitegrid\")\n",
    "DATA_PATH = Path('../')\n",
    "\n",
    "print(\"ライブラリ読み込み完了\")"
   ]
  },
  {
   "cell_type": "markdown",
   "metadata": {},
   "source": [
    "## 1. データ構造の詳細分析"
   ]
  },
  {
   "cell_type": "code",
   "execution_count": null,
   "metadata": {},
   "outputs": [],
   "source": [
    "# サンプルデータの読み込み\n",
    "df = pd.read_csv(DATA_PATH / 'sample_submission.csv')\n",
    "\n",
    "print(f\"データ形状: {df.shape}\")\n",
    "print(f\"惑星数: {len(df)}\")\n",
    "print(f\"特徴量数: {df.shape[1] - 1}\")\n",
    "\n",
    "# カラム分析\n",
    "wl_cols = [col for col in df.columns if col.startswith('wl_')]\n",
    "sigma_cols = [col for col in df.columns if col.startswith('sigma_')]\n",
    "\n",
    "print(f\"\\n波長カラム数: {len(wl_cols)}\")\n",
    "print(f\"不確実性カラム数: {len(sigma_cols)}\")\n",
    "print(f\"合計予測対象: {len(wl_cols) + len(sigma_cols)}\")\n",
    "\n",
    "df.head(2)"
   ]
  },
  {
   "cell_type": "markdown",
   "metadata": {},
   "source": [
    "## 2. 分光データのパターン分析"
   ]
  },
  {
   "cell_type": "code",
   "execution_count": null,
   "metadata": {},
   "outputs": [],
   "source": [
    "# 波長値の統計\n",
    "wl_data = df[wl_cols]\n",
    "sigma_data = df[sigma_cols]\n",
    "\n",
    "print(\"=== 波長データ (wl_*) の統計 ===\")\n",
    "print(f\"全体統計:\")\n",
    "print(f\"  範囲: {wl_data.min().min():.6f} - {wl_data.max().max():.6f}\")\n",
    "print(f\"  平均: {wl_data.mean().mean():.6f}\")\n",
    "print(f\"  標準偏差: {wl_data.std().mean():.6f}\")\n",
    "print(f\"  ユニーク値数: {len(wl_data.stack().unique())}\")\n",
    "\n",
    "print(\"\\n=== 不確実性データ (sigma_*) の統計 ===\")\n",
    "print(f\"全体統計:\")\n",
    "print(f\"  範囲: {sigma_data.min().min():.6f} - {sigma_data.max().max():.6f}\")\n",
    "print(f\"  平均: {sigma_data.mean().mean():.6f}\")\n",
    "print(f\"  標準偏差: {sigma_data.std().mean():.6f}\")\n",
    "print(f\"  ユニーク値数: {len(sigma_data.stack().unique())}\")"
   ]
  },
  {
   "cell_type": "code",
   "execution_count": null,
   "metadata": {},
   "outputs": [],
   "source": [
    "# データの分布を可視化\n",
    "fig, axes = plt.subplots(2, 2, figsize=(15, 10))\n",
    "\n",
    "# 波長データのヒストグラム\n",
    "axes[0,0].hist(wl_data.values.flatten(), bins=50, alpha=0.7, color='blue')\n",
    "axes[0,0].set_title('波長値の分布')\n",
    "axes[0,0].set_xlabel('値')\n",
    "axes[0,0].set_ylabel('頻度')\n",
    "\n",
    "# 不確実性データのヒストグラム  \n",
    "axes[0,1].hist(sigma_data.values.flatten(), bins=50, alpha=0.7, color='red')\n",
    "axes[0,1].set_title('不確実性の分布')\n",
    "axes[0,1].set_xlabel('値')\n",
    "axes[0,1].set_ylabel('頻度')\n",
    "\n",
    "# 各惑星の波長プロファイル\n",
    "for i, planet_id in enumerate(df['planet_id']):\n",
    "    wl_profile = df[df['planet_id']==planet_id][wl_cols].values[0]\n",
    "    axes[1,0].plot(range(len(wl_profile)), wl_profile, label=f'Planet {planet_id}', alpha=0.8)\n",
    "\n",
    "axes[1,0].set_title('各惑星の波長プロファイル')\n",
    "axes[1,0].set_xlabel('波長インデックス')\n",
    "axes[1,0].set_ylabel('波長値')\n",
    "axes[1,0].legend()\n",
    "\n",
    "# 各惑星の不確実性プロファイル\n",
    "for i, planet_id in enumerate(df['planet_id']):\n",
    "    sigma_profile = df[df['planet_id']==planet_id][sigma_cols].values[0]\n",
    "    axes[1,1].plot(range(len(sigma_profile)), sigma_profile, label=f'Planet {planet_id}', alpha=0.8)\n",
    "\n",
    "axes[1,1].set_title('各惑星の不確実性プロファイル')\n",
    "axes[1,1].set_xlabel('波長インデックス')\n",
    "axes[1,1].set_ylabel('不確実性')\n",
    "axes[1,1].legend()\n",
    "\n",
    "plt.tight_layout()\n",
    "plt.show()"
   ]
  },
  {
   "cell_type": "markdown",
   "metadata": {},
   "source": [
    "## 3. 相関とパターンの発見"
   ]
  },
  {
   "cell_type": "code",
   "execution_count": null,
   "metadata": {},
   "outputs": [],
   "source": [
    "# 波長間の相関を調べる（サンプリングして計算負荷を軽減）\n",
    "sample_wl_cols = wl_cols[::10]  # 10個おきにサンプリング\n",
    "sample_sigma_cols = sigma_cols[::10]\n",
    "\n",
    "# 波長データの相関行列\n",
    "wl_corr = df[sample_wl_cols].corr()\n",
    "\n",
    "fig, axes = plt.subplots(1, 2, figsize=(20, 8))\n",
    "\n",
    "# 波長の相関マップ\n",
    "sns.heatmap(wl_corr, cmap='coolwarm', center=0, \n",
    "            square=True, ax=axes[0], cbar_kws={'label': '相関係数'})\n",
    "axes[0].set_title('波長データの相関マップ（サンプリング）')\n",
    "\n",
    "# 不確実性の相関マップ\n",
    "sigma_corr = df[sample_sigma_cols].corr()\n",
    "sns.heatmap(sigma_corr, cmap='coolwarm', center=0, \n",
    "            square=True, ax=axes[1], cbar_kws={'label': '相関係数'})\n",
    "axes[1].set_title('不確実性の相関マップ（サンプリング）')\n",
    "\n",
    "plt.tight_layout()\n",
    "plt.show()\n",
    "\n",
    "print(f\"波長データの平均相関: {wl_corr.values[np.triu_indices_from(wl_corr.values, k=1)].mean():.6f}\")\n",
    "print(f\"不確実性の平均相関: {sigma_corr.values[np.triu_indices_from(sigma_corr.values, k=1)].mean():.6f}\")"
   ]
  },
  {
   "cell_type": "markdown",
   "metadata": {},
   "source": [
    "## 4. データの変動性分析"
   ]
  },
  {
   "cell_type": "code",
   "execution_count": null,
   "metadata": {},
   "outputs": [],
   "source": [
    "# 各波長での変動係数を計算\n",
    "wl_cv = wl_data.std() / wl_data.mean()  # 変動係数\n",
    "sigma_cv = sigma_data.std() / sigma_data.mean()\n",
    "\n",
    "fig, axes = plt.subplots(2, 1, figsize=(15, 10))\n",
    "\n",
    "# 波長の変動係数\n",
    "axes[0].plot(range(len(wl_cv)), wl_cv.values, 'b-', alpha=0.8)\n",
    "axes[0].set_title('各波長での変動係数')\n",
    "axes[0].set_xlabel('波長インデックス')\n",
    "axes[0].set_ylabel('変動係数')\n",
    "axes[0].grid(True, alpha=0.3)\n",
    "\n",
    "# 不確実性の変動係数\n",
    "axes[1].plot(range(len(sigma_cv)), sigma_cv.values, 'r-', alpha=0.8)\n",
    "axes[1].set_title('各波長での不確実性の変動係数')\n",
    "axes[1].set_xlabel('波長インデックス')\n",
    "axes[1].set_ylabel('変動係数')\n",
    "axes[1].grid(True, alpha=0.3)\n",
    "\n",
    "plt.tight_layout()\n",
    "plt.show()\n",
    "\n",
    "print(f\"波長データ変動係数 - 平均: {wl_cv.mean():.6f}, 範囲: {wl_cv.min():.6f} - {wl_cv.max():.6f}\")\n",
    "print(f\"不確実性変動係数 - 平均: {sigma_cv.mean():.6f}, 範囲: {sigma_cv.min():.6f} - {sigma_cv.max():.6f}\")"
   ]
  },
  {
   "cell_type": "markdown",
   "metadata": {},
   "source": [
    "## 5. 主成分分析（PCA）による次元削減"
   ]
  },
  {
   "cell_type": "code",
   "execution_count": null,
   "metadata": {},
   "outputs": [],
   "source": [
    "from sklearn.decomposition import PCA\n",
    "from sklearn.preprocessing import StandardScaler\n",
    "\n",
    "# 波長データのPCA\n",
    "scaler_wl = StandardScaler()\n",
    "wl_scaled = scaler_wl.fit_transform(wl_data)\n",
    "\n",
    "pca_wl = PCA()\n",
    "wl_pca = pca_wl.fit_transform(wl_scaled)\n",
    "\n",
    "# 不確実性データのPCA\n",
    "scaler_sigma = StandardScaler()\n",
    "sigma_scaled = scaler_sigma.fit_transform(sigma_data)\n",
    "\n",
    "pca_sigma = PCA()\n",
    "sigma_pca = pca_sigma.fit_transform(sigma_scaled)\n",
    "\n",
    "# 寄与率の可視化\n",
    "fig, axes = plt.subplots(1, 2, figsize=(15, 6))\n",
    "\n",
    "# 波長データの寄与率\n",
    "axes[0].plot(range(1, min(21, len(pca_wl.explained_variance_ratio_)+1)), \n",
    "            pca_wl.explained_variance_ratio_[:20], 'bo-')\n",
    "axes[0].set_title('波長データのPCA寄与率')\n",
    "axes[0].set_xlabel('主成分')\n",
    "axes[0].set_ylabel('寄与率')\n",
    "axes[0].grid(True, alpha=0.3)\n",
    "\n",
    "# 不確実性データの寄与率\n",
    "axes[1].plot(range(1, min(21, len(pca_sigma.explained_variance_ratio_)+1)), \n",
    "            pca_sigma.explained_variance_ratio_[:20], 'ro-')\n",
    "axes[1].set_title('不確実性データのPCA寄与率')\n",
    "axes[1].set_xlabel('主成分')\n",
    "axes[1].set_ylabel('寄与率')\n",
    "axes[1].grid(True, alpha=0.3)\n",
    "\n",
    "plt.tight_layout()\n",
    "plt.show()\n",
    "\n",
    "print(f\"波長データ - 第1主成分寄与率: {pca_wl.explained_variance_ratio_[0]:.4f}\")\n",
    "print(f\"波長データ - 累積寄与率（上位10成分）: {pca_wl.explained_variance_ratio_[:10].sum():.4f}\")\n",
    "print(f\"不確実性 - 第1主成分寄与率: {pca_sigma.explained_variance_ratio_[0]:.4f}\")\n",
    "print(f\"不確実性 - 累積寄与率（上位10成分）: {pca_sigma.explained_variance_ratio_[:10].sum():.4f}\")"
   ]
  },
  {
   "cell_type": "markdown",
   "metadata": {},
   "source": [
    "## 6. データ品質とノイズの分析"
   ]
  },
  {
   "cell_type": "code",
   "execution_count": null,
   "metadata": {},
   "outputs": [],
   "source": [
    "# 異常値検出\n",
    "def detect_outliers_iqr(data):\n",
    "    \"\"\"IQR法による異常値検出\"\"\"\n",
    "    Q1 = data.quantile(0.25)\n",
    "    Q3 = data.quantile(0.75)\n",
    "    IQR = Q3 - Q1\n",
    "    lower_bound = Q1 - 1.5 * IQR\n",
    "    upper_bound = Q3 + 1.5 * IQR\n",
    "    return (data < lower_bound) | (data > upper_bound)\n",
    "\n",
    "# 波長データの異常値\n",
    "wl_outliers = detect_outliers_iqr(wl_data)\n",
    "sigma_outliers = detect_outliers_iqr(sigma_data)\n",
    "\n",
    "wl_outlier_ratio = wl_outliers.sum().sum() / (wl_data.shape[0] * wl_data.shape[1])\n",
    "sigma_outlier_ratio = sigma_outliers.sum().sum() / (sigma_data.shape[0] * sigma_data.shape[1])\n",
    "\n",
    "print(f\"波長データの異常値割合: {wl_outlier_ratio:.6f}\")\n",
    "print(f\"不確実性データの異常値割合: {sigma_outlier_ratio:.6f}\")\n",
    "\n",
    "# Signal-to-Noise比の推定\n",
    "# 不確実性を使ってSNR推定\n",
    "snr_estimate = wl_data.abs() / sigma_data\n",
    "\n",
    "print(f\"\\n推定SNR統計:\")\n",
    "print(f\"  平均SNR: {snr_estimate.mean().mean():.4f}\")\n",
    "print(f\"  SNR範囲: {snr_estimate.min().min():.4f} - {snr_estimate.max().max():.4f}\")\n",
    "\n",
    "# SNRの分布\n",
    "plt.figure(figsize=(12, 5))\n",
    "\n",
    "plt.subplot(1, 2, 1)\n",
    "plt.hist(snr_estimate.values.flatten(), bins=50, alpha=0.7, color='green')\n",
    "plt.title('推定SNRの分布')\n",
    "plt.xlabel('SNR')\n",
    "plt.ylabel('頻度')\n",
    "plt.yscale('log')\n",
    "\n",
    "plt.subplot(1, 2, 2)\n",
    "snr_by_wavelength = snr_estimate.mean(axis=0)\n",
    "plt.plot(range(len(snr_by_wavelength)), snr_by_wavelength, 'g-', alpha=0.8)\n",
    "plt.title('波長別平均SNR')\n",
    "plt.xlabel('波長インデックス')\n",
    "plt.ylabel('平均SNR')\n",
    "plt.grid(True, alpha=0.3)\n",
    "\n",
    "plt.tight_layout()\n",
    "plt.show()"
   ]
  },
  {
   "cell_type": "markdown",
   "metadata": {},
   "source": [
    "## 7. 分析サマリーと次のステップ"
   ]
  },
  {
   "cell_type": "code",
   "execution_count": null,
   "metadata": {},
   "outputs": [],
   "source": [
    "print(\"=== データ分析サマリー ===\")\n",
    "print(f\"データセット:\")\n",
    "print(f\"  - 惑星数: {len(df)}\")\n",
    "print(f\"  - 波長帯域: {len(wl_cols)}\")\n",
    "print(f\"  - 予測対象: {len(wl_cols) + len(sigma_cols)}個\")\n",
    "\n",
    "print(f\"\\n主要な発見:\")\n",
    "print(f\"  - サンプルデータは定数値（実際のデータは異なる）\")\n",
    "print(f\"  - 高次元データ（566次元）\")\n",
    "print(f\"  - 波長と不確実性の両方を予測\")\n",
    "print(f\"  - PCA第1成分の寄与率が高い（強い線形相関）\")\n",
    "\n",
    "print(f\"\\n次のステップ:\")\n",
    "print(f\"  1. 実際の訓練データのダウンロードと分析\")\n",
    "print(f\"  2. 校正データの前処理パイプライン構築\")\n",
    "print(f\"  3. 特徴量エンジニアリング（PCA、wavelets等）\")\n",
    "print(f\"  4. 回帰モデルの構築（波長・不確実性予測）\")\n",
    "print(f\"  5. クロスバリデーション戦略の設計\")"
   ]
  }
 ],
 "metadata": {
  "kernelspec": {
   "display_name": "Python 3",
   "language": "python",
   "name": "python3"
  },
  "language_info": {
   "codemirror_mode": {
    "name": "ipython",
    "version": 3
   },
   "file_extension": ".py",
   "mimetype": "text/x-python",
   "name": "python",
   "nbconvert_exporter": "python",
   "pygments_lexer": "ipython3",
   "version": "3.8.5"
  }
 },
 "nbformat": 4,
 "nbformat_minor": 4
}